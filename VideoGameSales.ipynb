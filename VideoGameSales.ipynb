{
  "nbformat": 4,
  "nbformat_minor": 0,
  "metadata": {
    "colab": {
      "provenance": [],
      "authorship_tag": "ABX9TyO1ifrZyeUS2kYjHCoHUHs1",
      "include_colab_link": true
    },
    "kernelspec": {
      "name": "python3",
      "display_name": "Python 3"
    },
    "language_info": {
      "name": "python"
    }
  },
  "cells": [
    {
      "cell_type": "markdown",
      "metadata": {
        "id": "view-in-github",
        "colab_type": "text"
      },
      "source": [
        "<a href=\"https://colab.research.google.com/github/mrree1078/Hotel-System/blob/main/VideoGameSales.ipynb\" target=\"_parent\"><img src=\"https://colab.research.google.com/assets/colab-badge.svg\" alt=\"Open In Colab\"/></a>"
      ]
    },
    {
      "cell_type": "code",
      "execution_count": null,
      "metadata": {
        "id": "-iJzJoeZoP-F"
      },
      "outputs": [],
      "source": [
        "# import all packages and set plots to be embedded inline\n",
        "import numpy as np\n",
        "import pandas as pd\n",
        "import matplotlib.pyplot as plt\n",
        "import seaborn as sb\n",
        "\n",
        "%matplotlib inline\n",
        "\n",
        "# suppress warnings from final output\n",
        "import warnings\n",
        "warnings.simplefilter(\"ignore\")"
      ]
    },
    {
      "cell_type": "code",
      "source": [
        "#load data\n",
        "df = pd.read_csv('/content/clean_vgsales.csv')"
      ],
      "metadata": {
        "id": "Xb6xPAOooU6j"
      },
      "execution_count": null,
      "outputs": []
    },
    {
      "cell_type": "code",
      "source": [
        "df.head(20)"
      ],
      "metadata": {
        "id": "wzWe-sjtqF_t"
      },
      "execution_count": null,
      "outputs": []
    },
    {
      "cell_type": "code",
      "source": [
        "df.shape"
      ],
      "metadata": {
        "id": "URRyQ96aqJJk"
      },
      "execution_count": null,
      "outputs": []
    },
    {
      "cell_type": "code",
      "source": [
        "df.describe()"
      ],
      "metadata": {
        "id": "HlRLWaF4qMgM"
      },
      "execution_count": null,
      "outputs": []
    },
    {
      "cell_type": "code",
      "source": [
        "df.info()"
      ],
      "metadata": {
        "id": "7FxJ4m4iqOKt"
      },
      "execution_count": null,
      "outputs": []
    },
    {
      "cell_type": "code",
      "source": [
        "sorted(list(df.Year.unique()))"
      ],
      "metadata": {
        "id": "4W1WpK3bqP67"
      },
      "execution_count": null,
      "outputs": []
    },
    {
      "cell_type": "code",
      "source": [
        "df.Genre.value_counts()"
      ],
      "metadata": {
        "id": "uLmMK3aCqR_u"
      },
      "execution_count": null,
      "outputs": []
    },
    {
      "cell_type": "markdown",
      "source": [
        "# Q1: What are the top 5 genres of high sales?"
      ],
      "metadata": {
        "id": "H25PdRV0tv6t"
      }
    },
    {
      "cell_type": "code",
      "source": [
        "# let's see the average Global_Sales by genres\n",
        "df.groupby('Genre')['Global_Sales'].mean().sort_values()"
      ],
      "metadata": {
        "id": "07t3K4GNrIM6"
      },
      "execution_count": null,
      "outputs": []
    },
    {
      "cell_type": "code",
      "source": [
        "# Visulization\n",
        "plt.figure(figsize=(15,5))\n",
        "plt.bar(range(0,12), list(df.groupby('Genre')['Global_Sales'].mean().sort_values().values), tick_label=list(df.groupby('Genre')['Global_Sales'].mean().sort_values().index))\n",
        "plt.title('Genres by average sales number')\n",
        "plt.xlabel('Genres')\n",
        "plt.ylabel('Average sales number (millions)');\n",
        "plt.ylim(0,1);"
      ],
      "metadata": {
        "id": "i5wPhZlyt2sJ"
      },
      "execution_count": null,
      "outputs": []
    },
    {
      "cell_type": "markdown",
      "source": [
        "# Q2: What are the top 5 Publishers of the high sales?"
      ],
      "metadata": {
        "id": "VghuxPNzuU2j"
      }
    },
    {
      "cell_type": "code",
      "source": [
        "# let's see the average Global_Sales by publishers\n",
        "df.groupby('Publisher')['Global_Sales'].mean().sort_values()[-5:]"
      ],
      "metadata": {
        "id": "9-Mg8FLIt7_P"
      },
      "execution_count": null,
      "outputs": []
    },
    {
      "cell_type": "code",
      "source": [
        "#Visualization\n",
        "plt.figure(figsize=(12,5))\n",
        "plt.bar([1, 2, 3,4,5], [1.205, 1.30042328, 1.592 , 2.1725, 2.56354885], tick_label=['Sony Entertainment', 'Hello Games',\n",
        "       'Valve', 'RedOctane', 'Nintendo'])\n",
        "plt.title('The top 5 publisher by average high sales ')\n",
        "plt.xlabel('Top 5 publishers')\n",
        "plt.ylabel('Sales number (millions)');\n",
        "plt.xticks(rotation=15);"
      ],
      "metadata": {
        "id": "fbg_yK1QuczE"
      },
      "execution_count": null,
      "outputs": []
    },
    {
      "cell_type": "markdown",
      "source": [
        "# Q3: What are the top 5 Platforms of the high sales?"
      ],
      "metadata": {
        "id": "M1K4ZXRqzECT"
      }
    },
    {
      "cell_type": "code",
      "source": [
        "# let's see the average Global_Sales by platforms\n",
        "df.groupby('Platform')['Global_Sales'].mean().sort_values()[-5:].values"
      ],
      "metadata": {
        "id": "0JQCg6-MvvHj"
      },
      "execution_count": null,
      "outputs": []
    },
    {
      "cell_type": "code",
      "source": [
        "#Visualization\n",
        "plt.figure(figsize=(9,5))\n",
        "plt.bar([1, 2, 3,4,5], [0.8608805, 0.92192488, 0.97875, 2.59473684, 2.67357895], tick_label=['PS4', 'SNES', 'GEN', 'NES', 'GB'])\n",
        "plt.title('The top 5 Platforms by average high sales ')\n",
        "plt.xlabel('Top 5 Platforms')\n",
        "plt.ylabel('Sales number (millions)');"
      ],
      "metadata": {
        "id": "rUyP-aeZzMTk"
      },
      "execution_count": null,
      "outputs": []
    },
    {
      "cell_type": "markdown",
      "source": [
        "# Q4: Which 5 year of range from 1980 - 2020 has the highest global sales?"
      ],
      "metadata": {
        "id": "zOO5aAh2zWHq"
      }
    },
    {
      "cell_type": "code",
      "source": [
        "# Visualization\n",
        "\n",
        "plt.figure(figsize=(20,5))\n",
        "# set bin edges, compute centers\n",
        "bin_size = 1\n",
        "xbin_edges = np.arange(1980, df['Year'].max()+bin_size, bin_size)\n",
        "xbin_centers = (xbin_edges + bin_size/2)[:-1]\n",
        "\n",
        "# compute statistics in each bin\n",
        "data_xbins = pd.cut(df['Year'], xbin_edges, right = False, include_lowest = True)\n",
        "y_means = df['Global_Sales'].groupby(data_xbins).mean()\n",
        "y_sems = df['Global_Sales'].groupby(data_xbins).sem()  #std\n",
        "\n",
        "# plot the summarized data\n",
        "plt.errorbar(x = xbin_centers, y = y_means, yerr = y_sems)\n",
        "plt.xlabel('Year')\n",
        "plt.ylabel('Average Global Sales(millions)');\n",
        "plt.xticks(range(1980,2021,2), range(1980,2021,2));\n",
        "plt.title('Game Average Global Sales(millions) by years');"
      ],
      "metadata": {
        "id": "BcBdzS5rzRf6"
      },
      "execution_count": null,
      "outputs": []
    },
    {
      "cell_type": "markdown",
      "source": [
        "# Q5: What is the relationship between sales numbers in 4 different main regions from 1980 - 2020?"
      ],
      "metadata": {
        "id": "aTLr-4cG1YaC"
      }
    },
    {
      "cell_type": "code",
      "source": [
        "# Visualization\n",
        "\n",
        "plt.figure(figsize=(20,5))\n",
        "# set bin edges, compute centers\n",
        "bin_size = 1\n",
        "xbin_edges = np.arange(1980, df['Year'].max()+bin_size, bin_size)\n",
        "xbin_centers = (xbin_edges + bin_size/2)[:-1]\n",
        "\n",
        "# compute statistics in each bin\n",
        "data_xbins = pd.cut(df['Year'], xbin_edges, right = False, include_lowest = True)\n",
        "y_means = df['NA_Sales'].groupby(data_xbins).mean()\n",
        "plt.errorbar(x = xbin_centers, y = y_means)\n",
        "y_means = df['EU_Sales'].groupby(data_xbins).mean()\n",
        "plt.errorbar(x = xbin_centers, y = y_means)\n",
        "y_means = df['JP_Sales'].groupby(data_xbins).mean()\n",
        "plt.errorbar(x = xbin_centers, y = y_means)\n",
        "y_means = df['Other_Sales'].groupby(data_xbins).mean()\n",
        "plt.errorbar(x = xbin_centers, y = y_means)\n",
        "\n",
        "# plot the summarized data\n",
        "plt.xlabel('Year')\n",
        "plt.ylabel('Average Sales(millions)');\n",
        "plt.xticks(range(1980,2021,2), range(1980,2021,2));\n",
        "plt.title('Game Average Global Sales(millions) by years');\n",
        "plt.legend(title=\"Regions\", labels=['NA_Sales','EU_Sales','JP_Sales','Other_Sales'])"
      ],
      "metadata": {
        "id": "oo-pgzZOzayL"
      },
      "execution_count": null,
      "outputs": []
    },
    {
      "cell_type": "markdown",
      "source": [
        "# Q6: What is the relation with Top 5 Platforms and years?"
      ],
      "metadata": {
        "id": "TMd_C_6_1wme"
      }
    },
    {
      "cell_type": "code",
      "source": [
        "# Visualization\n",
        "#I only need the data from top platform\n",
        "Top5platform_df = df[df['Platform'].isin(['PS4', 'SNES', 'GEN', 'NES', 'GB'])]\n",
        "plt.figure(figsize=(20,4))\n",
        "base_color = sb.color_palette()[0]\n",
        "sb.boxplot(data = Top5platform_df, x = 'Year', y = 'Platform', color = base_color)\n",
        "plt.xlabel('Year')\n",
        "plt.ylabel('Platforms');\n",
        "plt.xticks(range(1980,2021,2), range(1980,2021,2));\n",
        "plt.title('Platforms by years');"
      ],
      "metadata": {
        "id": "TXpWRRx41hPX"
      },
      "execution_count": null,
      "outputs": []
    },
    {
      "cell_type": "code",
      "source": [],
      "metadata": {
        "id": "NBuseQFz137F"
      },
      "execution_count": null,
      "outputs": []
    }
  ]
}